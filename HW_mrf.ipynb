{
 "cells": [
  {
   "cell_type": "markdown",
   "metadata": {},
   "source": [
    "Домашнее задание\n",
    "\n",
    "# I part"
   ]
  },
  {
   "cell_type": "code",
   "execution_count": 1,
   "metadata": {},
   "outputs": [],
   "source": [
    "import numpy as np\n",
    "import re\n",
    "import matplotlib.pyplot as plt\n",
    "import seaborn as sns\n",
    "import pandas as pd\n",
    "%matplotlib inline\n",
    "sns.set()"
   ]
  },
  {
   "cell_type": "markdown",
   "metadata": {},
   "source": [
    "Скачайте текст войны и мир (ссылка на github и гугл диск).  \n",
    "Очистите его, оставив только русские буквы и символы пробела.  "
   ]
  },
  {
   "cell_type": "code",
   "execution_count": 2,
   "metadata": {},
   "outputs": [],
   "source": [
    "text = str()\n",
    "\n",
    "for i in range(1,5): \n",
    "    with open(f'../AMLHW_15_mrf/war_and_peace/tom_{i}.txt', 'r', encoding='utf-8') as f:\n",
    "        text += f.read().lower()\n",
    "text = re.sub(r'[^а-яё ]','', text)"
   ]
  },
  {
   "cell_type": "markdown",
   "metadata": {},
   "source": [
    "Постройте матрицу переходных вероятностей.  "
   ]
  },
  {
   "cell_type": "code",
   "execution_count": 3,
   "metadata": {},
   "outputs": [],
   "source": [
    "RUSSIAN_WITH_SPACE = 'абвгдеёжзийклмнопрстуфхцчшщъыьэюя '\n",
    "POS = {l: i for i, l in enumerate(RUSSIAN_WITH_SPACE)}"
   ]
  },
  {
   "cell_type": "code",
   "execution_count": 4,
   "metadata": {},
   "outputs": [],
   "source": [
    "probabilities = np.zeros((len(RUSSIAN_WITH_SPACE), len(RUSSIAN_WITH_SPACE)))"
   ]
  },
  {
   "cell_type": "code",
   "execution_count": 5,
   "metadata": {},
   "outputs": [],
   "source": [
    "for cp, cn in zip(text[:-1], text[1:]):\n",
    "    probabilities[POS[cp], POS[cn]] += 1"
   ]
  },
  {
   "cell_type": "code",
   "execution_count": 6,
   "metadata": {},
   "outputs": [],
   "source": [
    "probabilities = (probabilities / probabilities.sum(axis=1)[:, None])"
   ]
  },
  {
   "cell_type": "code",
   "execution_count": 7,
   "metadata": {},
   "outputs": [],
   "source": [
    "df = pd.DataFrame(probabilities, index=(c for c in RUSSIAN_WITH_SPACE), columns=(c for c in RUSSIAN_WITH_SPACE))"
   ]
  },
  {
   "cell_type": "code",
   "execution_count": 8,
   "metadata": {},
   "outputs": [
    {
     "data": {
      "image/png": "[encoded data removed]",
      "text/plain": [
       "<Figure size 1008x576 with 2 Axes>"
      ]
     },
     "metadata": {},
     "output_type": "display_data"
    }
   ],
   "source": [
    "plt.figure(figsize=(14,8))\n",
    "sns.heatmap(df)\n",
    "plt.show()"
   ]
  },
  {
   "cell_type": "markdown",
   "metadata": {},
   "source": [
    "Посчитайте вероятность встретить строку из 4-х символов, которая начинается п, а кончается на р;  "
   ]
  },
  {
   "cell_type": "code",
   "execution_count": 32,
   "metadata": {},
   "outputs": [
    {
     "name": "stdout",
     "output_type": "stream",
     "text": [
      "пегр 1.1112317321777153e-05\n",
      "пепр 1.2112841989055931e-05\n",
      "пе р 1.854375468700912e-05\n",
      "побр 2.9433951560885752e-05\n",
      "повр 1.4354422427861556e-05\n",
      "погр 3.84767361012238e-05\n",
      "подр 3.817691323612121e-05\n",
      "поер 2.580608653130366e-05\n",
      "попр 4.141720191311109e-05\n",
      "потр 4.228590463090975e-05\n",
      "по р 6.000469108869473e-05\n",
      "прар 7.43645140131875e-05\n",
      "прер 0.00011985973476310438\n",
      "прор 9.147367042682817e-05\n",
      "прур 1.5378847130707658e-05\n",
      "пь р 1.570248682561254e-05\n"
     ]
    }
   ],
   "source": [
    "start = POS['п']\n",
    "end = POS['р']\n",
    "prior = 1. / len(RUSSIAN_WITH_SPACE)\n",
    "for c in RUSSIAN_WITH_SPACE:\n",
    "    for s_c in RUSSIAN_WITH_SPACE:\n",
    "        proba = prior * probabilities[start, POS[c]] * \\\n",
    "                    probabilities[POS[c], POS[s_c]] * probabilities[POS[s_c], end]\n",
    "        if proba > 0.00001:\n",
    "            print(''.join(['п', c, s_c, 'р']), proba)"
   ]
  },
  {
   "cell_type": "markdown",
   "metadata": {},
   "source": [
    "Используя матрицу переходных вероятностей сгенерируйте слово, начинающееся с буквы \"Б\" и имеющее длину 8-мь символов"
   ]
  },
  {
   "cell_type": "code",
   "execution_count": 22,
   "metadata": {},
   "outputs": [
    {
     "name": "stdout",
     "output_type": "stream",
     "text": [
      "бешанюдод\n"
     ]
    }
   ],
   "source": [
    "s = []\n",
    "start = \"б\"\n",
    "s.append(start)\n",
    "length = 8\n",
    "for i in range(length):\n",
    "    index = POS[s[i]]\n",
    "    next_char = np.random.choice(list(RUSSIAN_WITH_SPACE), p=probabilities[index])\n",
    "    s.append(next_char)\n",
    "\n",
    "print (''.join(s))"
   ]
  },
  {
   "cell_type": "markdown",
   "metadata": {},
   "source": [
    "# II"
   ]
  },
  {
   "cell_type": "markdown",
   "metadata": {},
   "source": [
    "Выберите ряд и оцените его через HMM. Попробуйте \"построить\" (через среднее каждой компоненты) наивный прогноз ряда."
   ]
  },
  {
   "cell_type": "code",
   "execution_count": null,
   "metadata": {},
   "outputs": [],
   "source": []
  },
  {
   "cell_type": "code",
   "execution_count": null,
   "metadata": {},
   "outputs": [],
   "source": []
  },
  {
   "cell_type": "code",
   "execution_count": null,
   "metadata": {},
   "outputs": [],
   "source": []
  },
  {
   "cell_type": "code",
   "execution_count": null,
   "metadata": {},
   "outputs": [],
   "source": []
  }
 ],
 "metadata": {
  "kernelspec": {
   "display_name": "Python 3",
   "language": "python",
   "name": "python3"
  },
  "language_info": {
   "codemirror_mode": {
    "name": "ipython",
    "version": 3
   },
   "file_extension": ".py",
   "mimetype": "text/x-python",
   "name": "python",
   "nbconvert_exporter": "python",
   "pygments_lexer": "ipython3",
   "version": "3.8.3"
  }
 },
 "nbformat": 4,
 "nbformat_minor": 4
}
